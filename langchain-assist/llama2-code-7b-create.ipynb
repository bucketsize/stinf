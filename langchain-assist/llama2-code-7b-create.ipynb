{
 "cells": [
  {
   "cell_type": "markdown",
   "id": "f12b5e6c-da71-489c-a113-034b62ba0b4c",
   "metadata": {},
   "source": [
    "# Linux\n",
    "## Install ollama locally"
   ]
  },
  {
   "cell_type": "code",
   "execution_count": null,
   "id": "da1bcb2d-5f07-450e-9b0a-f8ea848262ec",
   "metadata": {
    "editable": true,
    "slideshow": {
     "slide_type": ""
    },
    "tags": [
     "shell"
    ]
   },
   "outputs": [],
   "source": [
    "!curl https://ollama.ai/install.sh | sh"
   ]
  },
  {
   "cell_type": "code",
   "execution_count": null,
   "id": "1751a7e3-680b-413f-8b93-3527247b938b",
   "metadata": {
    "editable": true,
    "slideshow": {
     "slide_type": ""
    },
    "tags": [
     "shell"
    ]
   },
   "outputs": [],
   "source": [
    "!ln -s /mnt/data/ws/llama.cpp/models/ggml-codellama-7b-q4_0.bin /usr/share/ollama/.ollama/models/"
   ]
  },
  {
   "cell_type": "code",
   "execution_count": null,
   "id": "79884893-bfa9-4595-985e-91e78d3f63df",
   "metadata": {},
   "outputs": [],
   "source": [
    "!echo \"FROM /mnt/data/ws/llama.cpp/models/ggml-codellama-7b-q4_0.bin\"  > llama.Modelfile"
   ]
  },
  {
   "cell_type": "code",
   "execution_count": null,
   "id": "848cac21-b740-447f-b880-d61881c9d41c",
   "metadata": {},
   "outputs": [],
   "source": [
    "!ollama create codellama -f codellama.Modelfile"
   ]
  },
  {
   "cell_type": "code",
   "execution_count": null,
   "id": "7aff2af9-f4a1-40e7-930f-e785c72bca18",
   "metadata": {},
   "outputs": [],
   "source": [
    "!ollama run codellama"
   ]
  }
 ],
 "metadata": {
  "kernelspec": {
   "display_name": "Python 3 (ipykernel)",
   "language": "python",
   "name": "python3"
  },
  "language_info": {
   "codemirror_mode": {
    "name": "ipython",
    "version": 3
   },
   "file_extension": ".py",
   "mimetype": "text/x-python",
   "name": "python",
   "nbconvert_exporter": "python",
   "pygments_lexer": "ipython3",
   "version": "3.11.5"
  }
 },
 "nbformat": 4,
 "nbformat_minor": 5
}
