{
  "cells": [
    {
      "cell_type": "markdown",
      "metadata": {
        "id": "view-in-github",
        "colab_type": "text"
      },
      "source": [
        "<a href=\"https://colab.research.google.com/github/bucketsize/stinf/blob/main/synth_ds.ipynb\" target=\"_parent\"><img src=\"https://colab.research.google.com/assets/colab-badge.svg\" alt=\"Open In Colab\"/></a>"
      ]
    },
    {
      "cell_type": "markdown",
      "metadata": {
        "id": "Tce3stUlHN0L"
      },
      "source": [
        "##### Copyright 2024 Google LLC."
      ]
    },
    {
      "cell_type": "code",
      "execution_count": null,
      "metadata": {
        "cellView": "form",
        "id": "tuOe1ymfHZPu"
      },
      "outputs": [],
      "source": [
        "#@title Licensed under the Apache License, Version 2.0 (the \"License\");\n",
        "# you may not use this file except in compliance with the License.\n",
        "# You may obtain a copy of the License at\n",
        "#\n",
        "# https://www.apache.org/licenses/LICENSE-2.0\n",
        "#\n",
        "# Unless required by applicable law or agreed to in writing, software\n",
        "# distributed under the License is distributed on an \"AS IS\" BASIS,\n",
        "# WITHOUT WARRANTIES OR CONDITIONS OF ANY KIND, either express or implied.\n",
        "# See the License for the specific language governing permissions and\n",
        "# limitations under the License."
      ]
    },
    {
      "cell_type": "markdown",
      "metadata": {
        "id": "-QhPWE1lwZHH"
      },
      "source": [
        "# Gemini API Python quickstart"
      ]
    },
    {
      "cell_type": "markdown",
      "metadata": {
        "id": "fa7c47ae6451"
      },
      "source": [
        "<table class=\"tfo-notebook-buttons\" align=\"left\">\n",
        "  <td>\n",
        "    <a target=\"_blank\" href=\"https://ai.google.dev/tutorials/quickstart_colab\"><img src=\"https://ai.google.dev/static/site-assets/images/docs/notebook-site-button.png\" height=\"32\" width=\"32\" />View on Google AI</a>\n",
        "  </td>\n",
        "  <td>\n",
        "    <a target=\"_blank\" href=\"https://colab.research.google.com/github/google/generative-ai-docs/blob/main/site/en/tutorials/quickstart_colab.ipynb\"><img src=\"https://www.tensorflow.org/images/colab_logo_32px.png\" />Run in Google Colab</a>\n",
        "  </td>\n",
        "  <td>\n",
        "    <a target=\"_blank\" href=\"https://github.com/google/generative-ai-docs/blob/main/site/en/tutorials/quickstart_colab.ipynb\"><img src=\"https://www.tensorflow.org/images/GitHub-Mark-32px.png\" />View source on GitHub</a>\n",
        "  </td>\n",
        "</table>"
      ]
    },
    {
      "cell_type": "markdown",
      "metadata": {
        "id": "db29b8d4247e"
      },
      "source": [
        "This tutorial shows you how to get started with the Gemini API using the Python SDK."
      ]
    },
    {
      "cell_type": "markdown",
      "metadata": {
        "id": "NNNg43Ymw54e"
      },
      "source": [
        "## Prerequisites\n",
        "\n",
        "You can run this tutorial in Google Colab, which doesn't require additional environment configuration.\n",
        "\n",
        "Alternatively, to complete this quickstart locally, see the Python guidance in [Get started with the Gemini API](https://ai.google.dev/tutorials/quickstart)."
      ]
    },
    {
      "cell_type": "markdown",
      "metadata": {
        "id": "kHkHARdb1ZID"
      },
      "source": [
        "## Install the SDK\n",
        "\n",
        "The Python SDK for the Gemini API is contained in the [`google-generativeai`](https://pypi.org/project/google-generativeai/) package. Install the dependency using pip:"
      ]
    },
    {
      "cell_type": "code",
      "execution_count": null,
      "metadata": {
        "id": "J6Pd9SFJ1yVi"
      },
      "outputs": [],
      "source": [
        "!pip install -q -U google-generativeai"
      ]
    },
    {
      "cell_type": "markdown",
      "metadata": {
        "id": "EeMCtmx9ykyx"
      },
      "source": [
        "## Set up your API key\n",
        "\n",
        "To use the Gemini API, you'll need an API key. If you don't already have one, create a key in Google AI Studio.\n",
        "\n",
        "<a class=\"button\" href=\"https://aistudio.google.com/app/apikey\" target=\"_blank\" rel=\"noopener noreferrer\">Get an API key</a>\n",
        "\n",
        "In Colab, add the key to the secrets manager under the \"🔑\" in the left panel. Give it the name `GOOGLE_API_KEY`. Then pass the key to the SDK:"
      ]
    },
    {
      "cell_type": "code",
      "execution_count": null,
      "metadata": {
        "id": "HTiaTu6O1LRC"
      },
      "outputs": [],
      "source": [
        "# Import the Python SDK\n",
        "import google.generativeai as genai\n",
        "# Used to securely store your API key\n",
        "from google.colab import userdata\n",
        "\n",
        "GOOGLE_API_KEY=userdata.get('GOOG_KEY')\n",
        "genai.configure(api_key=GOOGLE_API_KEY)"
      ]
    },
    {
      "cell_type": "markdown",
      "metadata": {
        "id": "CZPYk29o2No0"
      },
      "source": [
        "## Initialize the Generative Model\n",
        "\n",
        "Before you can make any API calls, you need to initialize the Generative Model."
      ]
    },
    {
      "cell_type": "code",
      "execution_count": null,
      "metadata": {
        "id": "s-JqXcDe2hZ_",
        "colab": {
          "base_uri": "https://localhost:8080/",
          "height": 714
        },
        "outputId": "07f5fe6a-c393-4918-dff9-5dc196f86218"
      },
      "outputs": [
        {
          "output_type": "stream",
          "name": "stdout",
          "text": [
            "models/chat-bison-001 A legacy text-only model optimized for chat conversations 4096 1024\n",
            "models/text-bison-001 A legacy model that understands text and generates text as an output 8196 1024\n",
            "models/embedding-gecko-001 Obtain a distributed representation of a text. 1024 1\n",
            "models/gemini-1.0-pro-vision-latest The original Gemini 1.0 Pro Vision model version which was optimized for image understanding. Gemini 1.0 Pro Vision was deprecated on July 12, 2024. Move to a newer Gemini version. 12288 4096\n",
            "models/gemini-pro-vision The original Gemini 1.0 Pro Vision model version which was optimized for image understanding. Gemini 1.0 Pro Vision was deprecated on July 12, 2024. Move to a newer Gemini version. 12288 4096\n",
            "models/gemini-1.5-pro-latest Alias that points to the most recent production (non-experimental) release of Gemini 1.5 Pro, our mid-size multimodal model that supports up to 2 million tokens. 2000000 8192\n",
            "models/gemini-1.5-pro-001 Stable version of Gemini 1.5 Pro, our mid-size multimodal model that supports up to 2 million tokens, released in May of 2024. 2000000 8192\n",
            "models/gemini-1.5-pro-002 Stable version of Gemini 1.5 Pro, our mid-size multimodal model that supports up to 2 million tokens, released in September of 2024. 2000000 8192\n",
            "models/gemini-1.5-pro Stable version of Gemini 1.5 Pro, our mid-size multimodal model that supports up to 2 million tokens, released in May of 2024. 2000000 8192\n",
            "models/gemini-1.5-flash-latest Alias that points to the most recent production (non-experimental) release of Gemini 1.5 Flash, our fast and versatile multimodal model for scaling across diverse tasks. 1000000 8192\n",
            "models/gemini-1.5-flash-001 Stable version of Gemini 1.5 Flash, our fast and versatile multimodal model for scaling across diverse tasks, released in May of 2024. 1000000 8192\n",
            "models/gemini-1.5-flash-001-tuning Version of Gemini 1.5 Flash that supports tuning, our fast and versatile multimodal model for scaling across diverse tasks, released in May of 2024. 16384 8192\n",
            "models/gemini-1.5-flash Alias that points to the most recent stable version of Gemini 1.5 Flash, our fast and versatile multimodal model for scaling across diverse tasks. 1000000 8192\n",
            "models/gemini-1.5-flash-002 Stable version of Gemini 1.5 Flash, our fast and versatile multimodal model for scaling across diverse tasks, released in September of 2024. 1000000 8192\n",
            "models/gemini-1.5-flash-8b Stable version of Gemini 1.5 Flash-8B, our smallest and most cost effective Flash model, released in October of 2024. 1000000 8192\n",
            "models/gemini-1.5-flash-8b-001 Stable version of Gemini 1.5 Flash-8B, our smallest and most cost effective Flash model, released in October of 2024. 1000000 8192\n",
            "models/gemini-1.5-flash-8b-latest Alias that points to the most recent production (non-experimental) release of Gemini 1.5 Flash-8B, our smallest and most cost effective Flash model, released in October of 2024. 1000000 8192\n",
            "models/gemini-1.5-flash-8b-exp-0827 Experimental release (August 27th, 2024) of Gemini 1.5 Flash-8B, our smallest and most cost effective Flash model. Replaced by Gemini-1.5-flash-8b-001 (stable). 1000000 8192\n",
            "models/gemini-1.5-flash-8b-exp-0924 Experimental release (September 24th, 2024) of Gemini 1.5 Flash-8B, our smallest and most cost effective Flash model. Replaced by Gemini-1.5-flash-8b-001 (stable). 1000000 8192\n",
            "models/gemini-2.0-flash-exp Gemini 2.0 Flash Experimental 1048576 8192\n",
            "models/gemini-2.0-flash Gemini 2.0 Flash 1048576 8192\n",
            "models/gemini-2.0-flash-001 Stable version of Gemini 2.0 Flash, our fast and versatile multimodal model for scaling across diverse tasks, released in January of 2025. 1048576 8192\n",
            "models/gemini-2.0-flash-lite-001 Stable version of Gemini 2.0 Flash Lite 1048576 8192\n",
            "models/gemini-2.0-flash-lite Gemini 2.0 Flash-Lite 1048576 8192\n",
            "models/gemini-2.0-flash-lite-preview-02-05 Preview release (February 5th, 2025) of Gemini 2.0 Flash Lite 1048576 8192\n",
            "models/gemini-2.0-flash-lite-preview Preview release (February 5th, 2025) of Gemini 2.0 Flash Lite 1048576 8192\n",
            "models/gemini-2.0-pro-exp Experimental release (February 5th, 2025) of Gemini 2.0 Pro 2097152 8192\n",
            "models/gemini-2.0-pro-exp-02-05 Experimental release (February 5th, 2025) of Gemini 2.0 Pro 2097152 8192\n",
            "models/gemini-exp-1206 Experimental release (February 5th, 2025) of Gemini 2.0 Pro 2097152 8192\n",
            "models/gemini-2.0-flash-thinking-exp-01-21 Experimental release (January 21st, 2025) of Gemini 2.0 Flash Thinking 1048576 65536\n",
            "models/gemini-2.0-flash-thinking-exp Experimental release (January 21st, 2025) of Gemini 2.0 Flash Thinking 1048576 65536\n",
            "models/gemini-2.0-flash-thinking-exp-1219 Gemini 2.0 Flash Thinking Experimental 1048576 65536\n",
            "models/learnlm-1.5-pro-experimental Alias that points to the most recent stable version of Gemini 1.5 Pro, our mid-size multimodal model that supports up to 2 million tokens. 32767 8192\n",
            "models/embedding-001 Obtain a distributed representation of a text. 2048 1\n",
            "models/text-embedding-004 Obtain a distributed representation of a text. 2048 1\n",
            "models/gemini-embedding-exp-03-07 Obtain a distributed representation of a text. 2048 1\n",
            "models/gemini-embedding-exp Obtain a distributed representation of a text. 2048 1\n",
            "models/aqa Model trained to return answers to questions that are grounded in provided sources, along with estimating answerable probability. 7168 1024\n",
            "models/imagen-3.0-generate-002 Vertex served Imagen 3.0 002 model 480 8192\n"
          ]
        }
      ],
      "source": [
        "models = genai.list_models()\n",
        "for model in models:\n",
        "  print(model.name, model.description, model.input_token_limit, model.output_token_limit)"
      ]
    },
    {
      "cell_type": "code",
      "source": [
        "model = genai.GenerativeModel('gemini-2.0-pro-exp')"
      ],
      "metadata": {
        "id": "3z_-98giUzUB"
      },
      "execution_count": null,
      "outputs": []
    },
    {
      "cell_type": "markdown",
      "metadata": {
        "id": "nXxypzJH4MUl"
      },
      "source": [
        "## Generate text"
      ]
    },
    {
      "cell_type": "code",
      "execution_count": null,
      "metadata": {
        "id": "j51mcrLD4Y2W",
        "colab": {
          "base_uri": "https://localhost:8080/",
          "height": 749
        },
        "outputId": "e2abbed1-f1b7-4b93-dc8e-21c7d94de32c"
      },
      "outputs": [
        {
          "output_type": "stream",
          "name": "stdout",
          "text": [
            "It's inaccurate to say there are *no* great open-source projects from India.  There are many, and the Indian contribution to open source is significant and growing rapidly.  However, the *perception* that there aren't as many globally *famous* projects originating primarily from India compared to, say, the US or Europe, is a valid observation, and it's worth exploring the reasons behind this.  It's a complex issue with several contributing factors:\n",
            "\n",
            "**1.  Visibility and Promotion:**\n",
            "\n",
            "*   **Marketing and Outreach:** Many excellent Indian projects may simply lack the resources, experience, or focus on international marketing, networking, and community building that projects from other regions have.  Building a global open-source community requires active participation in international conferences, online forums, and collaborations.  This takes time, money, and often a different cultural approach to self-promotion.\n",
            "*   **Language Barriers:** While English proficiency is high among Indian software developers, subtle communication differences and a lack of native-speaker-level fluency in online communities *can* sometimes hinder the widespread adoption and promotion of projects.  This is less of a barrier than it used to be, but it can still play a role.\n",
            "*   **Documentation and Onboarding:**  While not unique to India, projects with excellent documentation, clear contribution guidelines, and easy onboarding processes are more likely to attract a global contributor base.  Investing in these areas is crucial for wider recognition.\n",
            "\n",
            "**2.  Economic and Ecosystem Factors:**\n",
            "\n",
            "*   **Startup Culture vs. Open Source:**  India has a booming startup culture, and talented developers are often drawn to building proprietary software for these startups, which offer immediate financial rewards and career growth.  Open source, while valuable, often doesn't provide the same immediate tangible benefits.  The \"get rich quick\" mentality associated with startups can overshadow the longer-term, community-driven nature of open source.\n",
            "*   **Funding and Investment:**  Open-source projects often rely on volunteer effort. While corporate sponsorship and foundation support exist, securing funding for open-source projects can be challenging, especially in the early stages.  The venture capital ecosystem in India, while growing rapidly, is still more heavily focused on proprietary software businesses.  There's less of a tradition of funding purely open-source endeavors.\n",
            "*   **\"Brain Drain\" and Global Mobility:**  Many highly skilled Indian developers emigrate to other countries (especially the US) for better opportunities and higher salaries.  This \"brain drain\" means that some of the best talent, who might otherwise lead major open-source projects, are contributing to projects based elsewhere.\n",
            "*   **Service-Oriented IT Industry:**  Historically, India's IT industry has been heavily focused on providing services to global clients, rather than developing its own products. This service-oriented mindset, while changing, can mean less emphasis on building independent, globally impactful open-source projects.  The focus is often on delivering client requirements rather than fostering open innovation.\n",
            "\n",
            "**3.  Cultural Factors:**\n",
            "\n",
            "*   **Risk Aversion:**  Building a large, successful open-source project requires taking significant risks, investing time and effort without guaranteed returns, and potentially facing public criticism.  A more risk-averse culture (which some argue exists in parts of India) might discourage developers from embarking on such ambitious projects.  This is a generalization, of course, and doesn't apply to everyone.\n",
            "*   **Collaboration Styles:**  Open source thrives on open, often asynchronous, and globally distributed collaboration.  While Indian developers are certainly capable of this, cultural differences in communication and collaboration styles *can* sometimes create friction in international open-source communities.  This is a subtle but important factor.\n",
            "* **Focus on Examinations and Certifications:** Indian education system, is heavily focused on examinations and certifications. While this produces highly skilled individuals, it may not always foster the kind of independent thinking, experimentation, and collaborative spirit that is crucial for open-source innovation.\n",
            "\n",
            "**4. Time and Maturity:**\n",
            "\n",
            "* **Relatively Young Ecosystem:** Compared to the US or Europe, India's tech ecosystem, particularly its open-source component, is relatively young. It takes time for a vibrant, globally recognized open-source community to develop. The growth in recent years has been substantial, and it's likely we'll see more prominent projects emerge from India in the future.\n",
            "* **Evolution of Contributions:** Indian developers are increasingly *contributing* to existing major open-source projects (like Linux, Kubernetes, and various Apache projects). This is a crucial step. As these contributions grow and Indian developers gain more leadership roles within these global communities, it's a natural progression that more projects will be initiated and led from India.\n",
            "\n",
            "**Examples of Successful Indian Open Source Projects (and Contributions):**\n",
            "\n",
            "It's important to reiterate that there *are* successful projects and contributions:\n",
            "\n",
            "*   **Frappe Framework/ERPNext:** A full-stack web application framework and a popular open-source ERP system, built in India.\n",
            "*   **Chatwoot:** An open-source customer engagement suite.\n",
            "*   **Appsmith:** A low-code platform for building internal tools.\n",
            "* **Hasura:** Instant GraphQL APIs on any Postgres database.\n",
            "*   **PostHog:** Open-source product analytics. (While not *solely* Indian, it has significant Indian connections and contributions).\n",
            "* **Significant contributions to major projects:** Indian developers are major contributors to projects like the Linux kernel, Kubernetes, Apache projects, and many others. This contribution is often less visible than leading a project, but it's equally important.\n",
            "\n",
            "**In conclusion:**\n",
            "\n",
            "The perception of a lack of \"great\" open-source projects from India is a complex issue with multiple contributing factors, including visibility, funding, cultural nuances, and the stage of development of the ecosystem.  It's not a lack of talent or capability, but rather a combination of these other elements.  The situation is rapidly changing, and with the increasing focus on open source in India, the growing number of contributors, and the maturing tech ecosystem, it's highly likely that we'll see more globally recognized and impactful open-source projects originating from India in the coming years. The existing contributions and the burgeoning ecosystem are strong indicators of future growth.\n",
            "\n"
          ]
        }
      ],
      "source": [
        "response = model.generate_content(\"Why are there no great opensource projects from india?\")\n",
        "print(response.text)"
      ]
    },
    {
      "cell_type": "markdown",
      "metadata": {
        "id": "zUUAQS9u4biH"
      },
      "source": [
        "## What's next\n",
        "\n",
        "To learn more about working with the Gemini API, see the [Python tutorial](https://ai.google.dev/tutorials/python_quickstart).\n",
        "\n",
        "If you're new to generative AI models, you might want to look at the\n",
        "[concepts guide](https://ai.google.dev/docs/concepts) and the\n",
        "[Gemini API overview](https://ai.google.dev/docs/gemini_api_overview)."
      ]
    }
  ],
  "metadata": {
    "colab": {
      "provenance": [],
      "include_colab_link": true
    },
    "kernelspec": {
      "display_name": "Python 3",
      "name": "python3"
    }
  },
  "nbformat": 4,
  "nbformat_minor": 0
}